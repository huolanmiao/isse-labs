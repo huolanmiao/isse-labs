{
 "cells": [
  {
   "cell_type": "markdown",
   "id": "b5450c2f",
   "metadata": {},
   "source": [
    "## 步骤 1 - 安装所需的 Python 环境及包"
   ]
  },
  {
   "cell_type": "markdown",
   "id": "ad92d6a2",
   "metadata": {},
   "source": [
    "## 步骤 2 - 初步读入并清洗数据"
   ]
  },
  {
   "cell_type": "code",
<<<<<<< HEAD
   "execution_count": 64,
   "id": "038ba23a",
   "metadata": {},
   "outputs": [
    {
     "data": {
      "text/html": [
       "<div>\n",
       "<style scoped>\n",
       "    .dataframe tbody tr th:only-of-type {\n",
       "        vertical-align: middle;\n",
       "    }\n",
       "\n",
       "    .dataframe tbody tr th {\n",
       "        vertical-align: top;\n",
       "    }\n",
       "\n",
       "    .dataframe thead th {\n",
       "        text-align: right;\n",
       "    }\n",
       "</style>\n",
       "<table border=\"1\" class=\"dataframe\">\n",
       "  <thead>\n",
       "    <tr style=\"text-align: right;\">\n",
       "      <th></th>\n",
       "      <th>text</th>\n",
       "      <th>label</th>\n",
       "      <th>roberta</th>\n",
       "      <th>roberta_score</th>\n",
       "      <th>gpt2</th>\n",
       "      <th>gpt2_score</th>\n",
       "    </tr>\n",
       "  </thead>\n",
       "  <tbody>\n",
       "    <tr>\n",
       "      <th>0</th>\n",
       "      <td>@user @user what do these '1/2 naked pics' hav...</td>\n",
       "      <td>neutral</td>\n",
       "      <td>0</td>\n",
       "      <td>0.8047260642051697</td>\n",
       "      <td>LABEL_2</td>\n",
       "      <td>0.9134505987167358</td>\n",
       "    </tr>\n",
       "    <tr>\n",
       "      <th>1</th>\n",
       "      <td>OH: âI had a blue penis while I was thisâ?[...</td>\n",
       "      <td>neutral</td>\n",
       "      <td>1</td>\n",
       "      <td>0.8669487237930298</td>\n",
       "      <td>LABEL_1</td>\n",
       "      <td>0.7534046173095703</td>\n",
       "    </tr>\n",
       "    <tr>\n",
       "      <th>2</th>\n",
       "      <td>@user @user That's coming, but I think the vic...</td>\n",
       "      <td>neutral</td>\n",
       "      <td>1</td>\n",
       "      <td>0.7637239098548889</td>\n",
       "      <td>LABEL_2</td>\n",
       "      <td>0.9999619722366333</td>\n",
       "    </tr>\n",
       "    <tr>\n",
       "      <th>3</th>\n",
       "      <td>I think I may be finally in with the in crowd ...</td>\n",
       "      <td>positive</td>\n",
       "      <td>2</td>\n",
       "      <td>0.7740470767021179</td>\n",
       "      <td>LABEL_2</td>\n",
       "      <td>0.8987836837768555</td>\n",
       "    </tr>\n",
       "    <tr>\n",
       "      <th>4</th>\n",
       "      <td>@user Wow,first Hugo Chavez and now Fidel Cast...</td>\n",
       "      <td>negative</td>\n",
       "      <td>1</td>\n",
       "      <td>0.41639748215675354</td>\n",
       "      <td>LABEL_2</td>\n",
       "      <td>0.9864314198493958</td>\n",
       "    </tr>\n",
       "  </tbody>\n",
       "</table>\n",
       "</div>"
      ],
      "text/plain": [
       "                                                text     label roberta  \\\n",
       "0  @user @user what do these '1/2 naked pics' hav...   neutral       0   \n",
       "1  OH: âI had a blue penis while I was thisâ?[...   neutral       1   \n",
       "2  @user @user That's coming, but I think the vic...   neutral       1   \n",
       "3  I think I may be finally in with the in crowd ...  positive       2   \n",
       "4  @user Wow,first Hugo Chavez and now Fidel Cast...  negative       1   \n",
       "\n",
       "         roberta_score     gpt2          gpt2_score  \n",
       "0   0.8047260642051697  LABEL_2  0.9134505987167358  \n",
       "1   0.8669487237930298  LABEL_1  0.7534046173095703  \n",
       "2   0.7637239098548889  LABEL_2  0.9999619722366333  \n",
       "3   0.7740470767021179  LABEL_2  0.8987836837768555  \n",
       "4  0.41639748215675354  LABEL_2  0.9864314198493958  "
      ]
     },
     "execution_count": 64,
     "metadata": {},
     "output_type": "execute_result"
    }
   ],
=======
   "execution_count": null,
   "id": "038ba23a",
   "metadata": {},
   "outputs": [],
>>>>>>> fbda0ac1dc6db3ca6c416450d7153c4ac028184b
   "source": [
    "import pandas as pd\n",
    "\n",
    "df = pd.read_csv(\"./tweets.csv\")\n",
    "df.head(5)"
   ]
  },
  {
   "cell_type": "markdown",
   "id": "56079382",
   "metadata": {},
   "source": [
    "我们可以发现，Roberta 使用 0/1/2 来分别代表 negative/neutral/positive，而 gpt2 使用 LABEL_0/1/2 来代表 negative/neutral/positive。为了方便后续处理，我们需要进行清理。"
   ]
  },
  {
   "cell_type": "code",
<<<<<<< HEAD
   "execution_count": 65,
   "id": "43d75b48",
   "metadata": {},
   "outputs": [
    {
     "data": {
      "text/html": [
       "<div>\n",
       "<style scoped>\n",
       "    .dataframe tbody tr th:only-of-type {\n",
       "        vertical-align: middle;\n",
       "    }\n",
       "\n",
       "    .dataframe tbody tr th {\n",
       "        vertical-align: top;\n",
       "    }\n",
       "\n",
       "    .dataframe thead th {\n",
       "        text-align: right;\n",
       "    }\n",
       "</style>\n",
       "<table border=\"1\" class=\"dataframe\">\n",
       "  <thead>\n",
       "    <tr style=\"text-align: right;\">\n",
       "      <th></th>\n",
       "      <th>text</th>\n",
       "      <th>label</th>\n",
       "      <th>roberta</th>\n",
       "      <th>roberta_score</th>\n",
       "      <th>gpt2</th>\n",
       "      <th>gpt2_score</th>\n",
       "    </tr>\n",
       "  </thead>\n",
       "  <tbody>\n",
       "    <tr>\n",
       "      <th>0</th>\n",
       "      <td>@user @user what do these '1/2 naked pics' hav...</td>\n",
       "      <td>neutral</td>\n",
       "      <td>negative</td>\n",
       "      <td>0.8047260642051697</td>\n",
       "      <td>positive</td>\n",
       "      <td>0.9134505987167358</td>\n",
       "    </tr>\n",
       "    <tr>\n",
       "      <th>1</th>\n",
       "      <td>OH: âI had a blue penis while I was thisâ?[...</td>\n",
       "      <td>neutral</td>\n",
       "      <td>neutral</td>\n",
       "      <td>0.8669487237930298</td>\n",
       "      <td>neutral</td>\n",
       "      <td>0.7534046173095703</td>\n",
       "    </tr>\n",
       "    <tr>\n",
       "      <th>2</th>\n",
       "      <td>@user @user That's coming, but I think the vic...</td>\n",
       "      <td>neutral</td>\n",
       "      <td>neutral</td>\n",
       "      <td>0.7637239098548889</td>\n",
       "      <td>positive</td>\n",
       "      <td>0.9999619722366333</td>\n",
       "    </tr>\n",
       "    <tr>\n",
       "      <th>3</th>\n",
       "      <td>I think I may be finally in with the in crowd ...</td>\n",
       "      <td>positive</td>\n",
       "      <td>positive</td>\n",
       "      <td>0.7740470767021179</td>\n",
       "      <td>positive</td>\n",
       "      <td>0.8987836837768555</td>\n",
       "    </tr>\n",
       "    <tr>\n",
       "      <th>4</th>\n",
       "      <td>@user Wow,first Hugo Chavez and now Fidel Cast...</td>\n",
       "      <td>negative</td>\n",
       "      <td>neutral</td>\n",
       "      <td>0.41639748215675354</td>\n",
       "      <td>positive</td>\n",
       "      <td>0.9864314198493958</td>\n",
       "    </tr>\n",
       "  </tbody>\n",
       "</table>\n",
       "</div>"
      ],
      "text/plain": [
       "                                                text     label   roberta  \\\n",
       "0  @user @user what do these '1/2 naked pics' hav...   neutral  negative   \n",
       "1  OH: âI had a blue penis while I was thisâ?[...   neutral   neutral   \n",
       "2  @user @user That's coming, but I think the vic...   neutral   neutral   \n",
       "3  I think I may be finally in with the in crowd ...  positive  positive   \n",
       "4  @user Wow,first Hugo Chavez and now Fidel Cast...  negative   neutral   \n",
       "\n",
       "         roberta_score      gpt2          gpt2_score  \n",
       "0   0.8047260642051697  positive  0.9134505987167358  \n",
       "1   0.8669487237930298   neutral  0.7534046173095703  \n",
       "2   0.7637239098548889  positive  0.9999619722366333  \n",
       "3   0.7740470767021179  positive  0.8987836837768555  \n",
       "4  0.41639748215675354  positive  0.9864314198493958  "
      ]
     },
     "execution_count": 65,
     "metadata": {},
     "output_type": "execute_result"
    }
   ],
   "source": [
    "def label_map_gpt2(x):\n",
    "    #TODO\n",
    "    label_map = {0: \"negative\", 1:\"neutral\", 2:\"positive\"}\n",
    "    if isinstance(x, str) and x.startswith('LABEL_'):\n",
    "        return label_map[int(x.split('_')[1])]\n",
    "    else:\n",
    "        return \"Invalid\"\n",
    "    \n",
    "def label_map_roberta(x):\n",
    "    \"\"\"Ensure Roberta labels are integers (0/1/2).\"\"\"\n",
    "    #TODO\n",
    "    label_map = {'0': \"negative\", '1': \"neutral\", '2': \"positive\"}\n",
    "    if x in label_map:\n",
    "        return label_map[x]\n",
    "    else:\n",
    "        return \"Invalid\"\n",
=======
   "execution_count": null,
   "id": "43d75b48",
   "metadata": {},
   "outputs": [],
   "source": [
    "def label_map_gpt2(x):\n",
    "    #TODO\n",
    "    return x\n",
    "    \n",
    "def label_map_roberta(x):\n",
    "    #TODO\n",
    "    return x\n",
>>>>>>> fbda0ac1dc6db3ca6c416450d7153c4ac028184b
    "\n",
    "df['gpt2'] = df['gpt2'].map(label_map_gpt2)\n",
    "df['roberta'] = df['roberta'].map(label_map_roberta)\n",
    "df.head(5)"
   ]
  },
  {
   "cell_type": "markdown",
   "id": "e0cce6cf",
   "metadata": {},
   "source": [
    "Zeno 处理要求我们增加 input_length 列与 id 列，对数据进行进一步处理"
   ]
  },
  {
   "cell_type": "code",
<<<<<<< HEAD
   "execution_count": 66,
   "id": "78e22ca0",
   "metadata": {},
   "outputs": [
    {
     "data": {
      "text/html": [
       "<div>\n",
       "<style scoped>\n",
       "    .dataframe tbody tr th:only-of-type {\n",
       "        vertical-align: middle;\n",
       "    }\n",
       "\n",
       "    .dataframe tbody tr th {\n",
       "        vertical-align: top;\n",
       "    }\n",
       "\n",
       "    .dataframe thead th {\n",
       "        text-align: right;\n",
       "    }\n",
       "</style>\n",
       "<table border=\"1\" class=\"dataframe\">\n",
       "  <thead>\n",
       "    <tr style=\"text-align: right;\">\n",
       "      <th></th>\n",
       "      <th>text</th>\n",
       "      <th>label</th>\n",
       "      <th>roberta</th>\n",
       "      <th>roberta_score</th>\n",
       "      <th>gpt2</th>\n",
       "      <th>gpt2_score</th>\n",
       "      <th>input_length</th>\n",
       "      <th>id</th>\n",
       "    </tr>\n",
       "  </thead>\n",
       "  <tbody>\n",
       "    <tr>\n",
       "      <th>0</th>\n",
       "      <td>@user @user what do these '1/2 naked pics' hav...</td>\n",
       "      <td>neutral</td>\n",
       "      <td>negative</td>\n",
       "      <td>0.8047260642051697</td>\n",
       "      <td>positive</td>\n",
       "      <td>0.9134505987167358</td>\n",
       "      <td>96</td>\n",
       "      <td>0</td>\n",
       "    </tr>\n",
       "    <tr>\n",
       "      <th>1</th>\n",
       "      <td>OH: âI had a blue penis while I was thisâ?[...</td>\n",
       "      <td>neutral</td>\n",
       "      <td>neutral</td>\n",
       "      <td>0.8669487237930298</td>\n",
       "      <td>neutral</td>\n",
       "      <td>0.7534046173095703</td>\n",
       "      <td>75</td>\n",
       "      <td>1</td>\n",
       "    </tr>\n",
       "    <tr>\n",
       "      <th>2</th>\n",
       "      <td>@user @user That's coming, but I think the vic...</td>\n",
       "      <td>neutral</td>\n",
       "      <td>neutral</td>\n",
       "      <td>0.7637239098548889</td>\n",
       "      <td>positive</td>\n",
       "      <td>0.9999619722366333</td>\n",
       "      <td>87</td>\n",
       "      <td>2</td>\n",
       "    </tr>\n",
       "    <tr>\n",
       "      <th>3</th>\n",
       "      <td>I think I may be finally in with the in crowd ...</td>\n",
       "      <td>positive</td>\n",
       "      <td>positive</td>\n",
       "      <td>0.7740470767021179</td>\n",
       "      <td>positive</td>\n",
       "      <td>0.8987836837768555</td>\n",
       "      <td>83</td>\n",
       "      <td>3</td>\n",
       "    </tr>\n",
       "    <tr>\n",
       "      <th>4</th>\n",
       "      <td>@user Wow,first Hugo Chavez and now Fidel Cast...</td>\n",
       "      <td>negative</td>\n",
       "      <td>neutral</td>\n",
       "      <td>0.41639748215675354</td>\n",
       "      <td>positive</td>\n",
       "      <td>0.9864314198493958</td>\n",
       "      <td>133</td>\n",
       "      <td>4</td>\n",
       "    </tr>\n",
       "  </tbody>\n",
       "</table>\n",
       "</div>"
      ],
      "text/plain": [
       "                                                text     label   roberta  \\\n",
       "0  @user @user what do these '1/2 naked pics' hav...   neutral  negative   \n",
       "1  OH: âI had a blue penis while I was thisâ?[...   neutral   neutral   \n",
       "2  @user @user That's coming, but I think the vic...   neutral   neutral   \n",
       "3  I think I may be finally in with the in crowd ...  positive  positive   \n",
       "4  @user Wow,first Hugo Chavez and now Fidel Cast...  negative   neutral   \n",
       "\n",
       "         roberta_score      gpt2          gpt2_score  input_length  id  \n",
       "0   0.8047260642051697  positive  0.9134505987167358            96   0  \n",
       "1   0.8669487237930298   neutral  0.7534046173095703            75   1  \n",
       "2   0.7637239098548889  positive  0.9999619722366333            87   2  \n",
       "3   0.7740470767021179  positive  0.8987836837768555            83   3  \n",
       "4  0.41639748215675354  positive  0.9864314198493958           133   4  "
      ]
     },
     "execution_count": 66,
     "metadata": {},
     "output_type": "execute_result"
    }
   ],
=======
   "execution_count": null,
   "id": "78e22ca0",
   "metadata": {},
   "outputs": [],
>>>>>>> fbda0ac1dc6db3ca6c416450d7153c4ac028184b
   "source": [
    "df[\"input_length\"] = df[\"text\"].str.len()\n",
    "df['id'] = df.index\n",
    "df.head(5)"
   ]
  },
  {
   "cell_type": "markdown",
   "id": "5ce485ee",
   "metadata": {},
   "source": [
    "## 步骤 3 - 启动 Zeno 进行模型分析"
   ]
  },
  {
   "cell_type": "markdown",
   "id": "89511417",
   "metadata": {},
   "source": [
    "创建一个 [Zeno](https://hub.zenoml.com/account) 账号，阅读如下代码并正确运行，运行完成后你将在个人账户下看到创建的 projects"
   ]
  },
  {
   "cell_type": "code",
<<<<<<< HEAD
   "execution_count": 67,
   "id": "9e43f0fe",
   "metadata": {},
   "outputs": [
    {
     "name": "stdout",
     "output_type": "stream",
     "text": [
      "Successfully updated project.\n",
      "Access your project at  https://hub.zenoml.com/project/f2ecf624-08bf-4e6e-9702-d487c7d03e9a/Twitter%20Sentiment%20Analysis\n"
     ]
    },
    {
     "name": "stderr",
     "output_type": "stream",
     "text": [
      "d:\\anaconda\\envs\\py310\\lib\\site-packages\\zeno_client\\util.py:25: FutureWarning: Setting an item of incompatible dtype is deprecated and will raise in a future error of pandas. Value '['0' '1' '2' '3' '4' '5' '6' '7' '8' '9' '10' '11' '12' '13' '14' '15'\n",
      " '16' '17' '18' '19' '20' '21' '22' '23' '24' '25' '26' '27' '28' '29'\n",
      " '30' '31' '32' '33' '34' '35' '36' '37' '38' '39' '40' '41' '42' '43'\n",
      " '44' '45' '46' '47' '48' '49' '50' '51' '52' '53' '54' '55' '56' '57'\n",
      " '58' '59' '60' '61' '62' '63' '64' '65' '66' '67' '68' '69' '70' '71'\n",
      " '72' '73' '74' '75' '76' '77' '78' '79' '80' '81' '82' '83' '84' '85'\n",
      " '86' '87' '88' '89' '90' '91' '92' '93' '94' '95' '96' '97' '98' '99'\n",
      " '100' '101' '102' '103' '104' '105' '106' '107' '108' '109' '110' '111'\n",
      " '112' '113' '114' '115' '116' '117' '118' '119' '120' '121' '122' '123'\n",
      " '124' '125' '126' '127' '128' '129' '130' '131' '132' '133' '134' '135'\n",
      " '136' '137' '138' '139' '140' '141' '142' '143' '144' '145' '146' '147'\n",
      " '148' '149' '150' '151' '152' '153' '154' '155' '156' '157' '158' '159'\n",
      " '160' '161' '162' '163' '164' '165' '166' '167' '168' '169' '170' '171'\n",
      " '172' '173' '174' '175' '176' '177' '178' '179' '180' '181' '182' '183'\n",
      " '184' '185' '186' '187' '188' '189' '190' '191' '192' '193' '194' '195'\n",
      " '196' '197' '198' '199' '200' '201' '202' '203' '204' '205' '206' '207'\n",
      " '208' '209' '210' '211' '212' '213' '214' '215' '216' '217' '218' '219'\n",
      " '220' '221' '222' '223' '224' '225' '226' '227' '228' '229' '230' '231'\n",
      " '232' '233' '234' '235' '236' '237' '238' '239' '240' '241' '242' '243'\n",
      " '244' '245' '246' '247' '248' '249' '250' '251' '252' '253' '254' '255'\n",
      " '256' '257' '258' '259' '260' '261' '262' '263' '264' '265' '266' '267'\n",
      " '268' '269' '270' '271' '272' '273' '274' '275' '276' '277' '278' '279'\n",
      " '280' '281' '282' '283' '284' '285' '286' '287' '288' '289' '290' '291'\n",
      " '292' '293' '294' '295' '296' '297' '298' '299' '300' '301' '302' '303'\n",
      " '304' '305' '306' '307' '308' '309' '310' '311' '312' '313' '314' '315'\n",
      " '316' '317' '318' '319' '320' '321' '322' '323' '324' '325' '326' '327'\n",
      " '328' '329' '330' '331' '332' '333' '334' '335' '336' '337' '338' '339'\n",
      " '340' '341' '342' '343' '344' '345' '346' '347' '348' '349' '350' '351'\n",
      " '352' '353' '354' '355' '356' '357' '358' '359' '360' '361' '362' '363'\n",
      " '364' '365' '366' '367' '368' '369' '370' '371' '372' '373' '374' '375'\n",
      " '376' '377' '378' '379' '380' '381' '382' '383' '384' '385' '386' '387'\n",
      " '388' '389' '390' '391' '392' '393' '394' '395' '396' '397' '398' '399'\n",
      " '400' '401' '402' '403' '404' '405' '406' '407' '408' '409' '410' '411'\n",
      " '412' '413' '414' '415' '416' '417' '418' '419' '420' '421' '422' '423'\n",
      " '424' '425' '426' '427' '428' '429' '430' '431' '432' '433' '434' '435'\n",
      " '436' '437' '438' '439' '440' '441' '442' '443' '444' '445' '446' '447'\n",
      " '448' '449' '450' '451' '452' '453' '454' '455' '456' '457' '458' '459']' has dtype incompatible with int64, please explicitly cast to a compatible dtype first.\n",
      "  df.loc[:, id_column] = df[id_column].astype(str)\n",
      "100%|██████████| 1/1 [00:01<00:00,  1.59s/it]\n"
     ]
    },
    {
     "name": "stdout",
     "output_type": "stream",
     "text": [
      "Successfully uploaded data\n"
     ]
    },
    {
     "name": "stderr",
     "output_type": "stream",
     "text": [
      "100%|██████████| 1/1 [00:01<00:00,  1.26s/it]\n"
     ]
    },
    {
     "name": "stdout",
     "output_type": "stream",
     "text": [
      "Successfully uploaded system\n"
     ]
    },
    {
     "name": "stderr",
     "output_type": "stream",
     "text": [
      "100%|██████████| 1/1 [00:01<00:00,  1.14s/it]"
     ]
    },
    {
     "name": "stdout",
     "output_type": "stream",
     "text": [
      "Successfully uploaded system\n"
     ]
    },
    {
     "name": "stderr",
     "output_type": "stream",
     "text": [
      "\n"
     ]
    }
   ],
=======
   "execution_count": null,
   "id": "9e43f0fe",
   "metadata": {},
   "outputs": [],
>>>>>>> fbda0ac1dc6db3ca6c416450d7153c4ac028184b
   "source": [
    "from zeno_client import ZenoClient, ZenoMetric\n",
    "import pandas as pd\n",
    "\n",
<<<<<<< HEAD
    "client = ZenoClient(\"zen_4HYFJhVgt7kyql7j55Bj0CSWVv2kU-IHH6yCoe9uC_I\")\n",
=======
    "client = ZenoClient(YOUR_API_KEY_HERE)\n",
>>>>>>> fbda0ac1dc6db3ca6c416450d7153c4ac028184b
    "\n",
    "# 创建项目\n",
    "proj = client.create_project(\n",
    "    name=\"Twitter Sentiment Analysis\",\n",
    "    view=\"text-classification\",\n",
    "    metrics=[\n",
    "        ZenoMetric(name=\"roberta_accuracy\", type=\"mean\", columns=[\"roberta_correct\"]),\n",
    "        #TODO 类比上述方法，为 gpt2 模型创建相应的评估指标\n",
<<<<<<< HEAD
    "        ZenoMetric(name=\"gpt2_accuracy\", type=\"mean\", columns=[\"gpt2_correct\"]),\n",
=======
>>>>>>> fbda0ac1dc6db3ca6c416450d7153c4ac028184b
    "    ]\n",
    ")\n",
    "\n",
    "proj.upload_dataset(df, id_column=\"id\", data_column='text', label_column=\"label\")\n",
    "\n",
    "# 为 Roberta 模型分别创建系统数据框\n",
    "df_roberta = pd.DataFrame({\n",
    "    \"id\": df[\"id\"],\n",
    "    \"output\": df[\"roberta\"],\n",
    "    \"roberta_correct\": (df[\"roberta\"] == df[\"label\"]).astype(int)\n",
    "})\n",
    "proj.upload_system(df_roberta, name=\"Roberta\", id_column=\"id\", output_column=\"output\")\n",
<<<<<<< HEAD
    "#TODO 类比上述方法，为 gpt2 模型创建系统数据框\n",
    "df_gpt2 = pd.DataFrame({\n",
    "    \"id\": df[\"id\"],\n",
    "    \"output\": df[\"gpt2\"],\n",
    "    \"gpt2_correct\": (df[\"gpt2\"] == df[\"label\"]).astype(int)\n",
    "})\n",
    "proj.upload_system(df_gpt2, name=\"GPT-2\", id_column=\"id\", output_column=\"output\")"
=======
    "#TODO 类比上述方法，为 gpt2 模型创建系统数据框\n"
>>>>>>> fbda0ac1dc6db3ca6c416450d7153c4ac028184b
   ]
  },
  {
   "cell_type": "markdown",
   "id": "468a7539",
   "metadata": {},
   "source": [
    "## 步骤 4 - 创建分析切片并进一步分析"
   ]
  },
  {
   "cell_type": "markdown",
   "id": "78ea7993",
   "metadata": {},
   "source": [
    "你一共需要利用 Zeno 提供的接口创建 5 个不同的切片。\n",
    "\n",
    "你可以首先创建两个切片：\n",
    "\n",
    "1. 有标签的推文（含有\"#\"）\n",
    "2. 有强烈正向情感的词语（如 love），你可以自行决定一个词"
   ]
  },
  {
   "cell_type": "markdown",
   "id": "359272de",
   "metadata": {},
   "source": [
    "创建切片可以直接通过点击 \"+\" 按钮来进行，可以通过基本值匹配或正则表达式的方式创建，具体用法参见[文档](https://zenoml.com/docs/intro/)\n",
    "\n",
    "![image.png](images/image.png)\n",
    "\n",
    "有关 Zeno 中更多有趣的用法可以参考 Zeno 仓库中的 [README](https://github.com/zeno-ml/zeno)。"
   ]
  },
  {
   "cell_type": "markdown",
   "id": "f3cdec4b",
   "metadata": {},
   "source": [
    "在此处写下你想要另外创建的三个切片，并在个人 Zeno 账户中创建，针对每一个创建的切片，用一两句话总结模型在其上的表现特点：\n",
    "\n",
<<<<<<< HEAD
    "3. 有代表强烈感情，一般偏负面的词语（fuck, shit）\n",
    "- Roberta accuracy\n",
    "    - All instances: 67%\n",
    "    - Contain fuck: 88%\n",
    "    - Contain shit: 75%\n",
    "- GPT-2 accuracy\n",
    "    - All instances: 35%\n",
    "    - Contain fuck: 63%\n",
    "    - Contain shit: 75%\n",
    "- 当有明显情感倾向时，模型的表现会更好。GPT-2在整体上表现更差，因此获得的提升更多。\n",
    "\n",
    "4. 筛选input_length\n",
    "- Roberta accuracy\n",
    "    - All instances: 67%\n",
    "    - input_length > 100: 60%\n",
    "    - 11 <= input_length < 93.235: 74%\n",
    "- GPT-2 accuracy\n",
    "    - All instances: 35%\n",
    "    - input_length > 100: 25%\n",
    "    - 11 <= input_length < 93.235: 43%\n",
    "- 模型在不同输入长度下的表现有一定差异，或许与模型架构、表达能力、长文本建模能力相关。更强的模型受此影响较小。\n",
    "\n",
    "5. 筛选不同label\n",
    "- Roberta accuracy\n",
    "    - All instances: 67%\n",
    "    - Negative: 79%\n",
    "    - Positive: 76%\n",
    "    - Neutral: 61%\n",
    "- GPT-2 accuracy\n",
    "    - All instances: 35%\n",
    "    - Negative: 23%\n",
    "    - Positive: 66%\n",
    "    - Neutral: 30%\n",
    "- 模型在不同标签上的表现出现差异，在Roberta上Negative和Positive的表现好于Neutral，在GPT-2上Positive最佳。这可能与训练数据的分布有关，加之neutral本身较难判断。"
=======
    "3. TODO\n",
    "4. TODO\n",
    "5. TODO"
>>>>>>> fbda0ac1dc6db3ca6c416450d7153c4ac028184b
   ]
  },
  {
   "cell_type": "markdown",
   "id": "1f7b8cda",
   "metadata": {},
   "source": [
    "## 提交：\n",
    "1. 本 notebook，保留你书写的代码与输出结果\n",
    "2. 一张截图，显示你创建的 5 个切片"
   ]
  }
 ],
 "metadata": {
  "kernelspec": {
<<<<<<< HEAD
   "display_name": "py310",
=======
   "display_name": "Python 3",
>>>>>>> fbda0ac1dc6db3ca6c416450d7153c4ac028184b
   "language": "python",
   "name": "python3"
  },
  "language_info": {
   "codemirror_mode": {
    "name": "ipython",
    "version": 3
   },
   "file_extension": ".py",
   "mimetype": "text/x-python",
   "name": "python",
   "nbconvert_exporter": "python",
   "pygments_lexer": "ipython3",
<<<<<<< HEAD
   "version": "3.10.0"
=======
   "version": "3.12.10"
>>>>>>> fbda0ac1dc6db3ca6c416450d7153c4ac028184b
  }
 },
 "nbformat": 4,
 "nbformat_minor": 5
}
